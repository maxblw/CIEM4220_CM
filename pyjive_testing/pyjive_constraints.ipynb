{
 "cells": [
  {
   "cell_type": "markdown",
   "id": "845cba14-3a52-459c-aa38-bb10347a810a",
   "metadata": {},
   "source": [
    "# Pyjive workshop: Applying constraints"
   ]
  },
  {
   "cell_type": "markdown",
   "id": "0ef203ff-1cff-4423-b8a0-7fd5b0f3312f",
   "metadata": {},
   "source": [
    "## Preliminaries"
   ]
  },
  {
   "cell_type": "code",
   "execution_count": 1,
   "id": "b90017ca-7ba9-4e8e-b394-52bc1803f433",
   "metadata": {},
   "outputs": [],
   "source": [
    "import matplotlib.pyplot as plt\n",
    "import numpy as np"
   ]
  },
  {
   "cell_type": "code",
   "execution_count": 2,
   "id": "ebe4f1e6-8feb-4e25-a0ec-48de4e60e8dd",
   "metadata": {},
   "outputs": [
    {
     "name": "stdout",
     "output_type": "stream",
     "text": [
      "Downloading kmatrix.py...\n"
     ]
    }
   ],
   "source": [
    "# download additional files (if necessary)\n",
    "\n",
    "import contextlib\n",
    "import os\n",
    "from urllib.request import urlretrieve\n",
    "\n",
    "def findfile(fname):\n",
    "    url = \"https://gitlab.tudelft.nl/cm/public/drive/-/raw/main/constraints/\" + fname + \"?inline=false\"\n",
    "    if not os.path.isfile(fname):\n",
    "        print(f\"Downloading {fname}...\")\n",
    "        urlretrieve(url, fname)\n",
    "\n",
    "findfile(\"kmatrix.py\")"
   ]
  },
  {
   "cell_type": "markdown",
   "id": "ac3685b1-d1a8-4649-9c7b-a2d7922628fb",
   "metadata": {
    "tags": []
   },
   "source": [
    "## Problem statement\n",
    "\n",
    "Consider the following 1-element problem composed of a single linear quadrilateral (Q4 or Quad4) element:\n",
    "\n",
    "<center><img src=\"https://raw.githubusercontent.com/ibcmrocha/public/main/oneelem_square.png\" alt=\"beam\" width=\"400\"/></center>\n",
    "\n",
    "where you can also see several of the DOFs are constrained to either zero or non-zero values (Dirichlet constraints).\n",
    "\n",
    "Using the correct shape functions $\\mathbf{N}$ and encapsulating our kinematic assumptions in $\\mathbf{B}$, we can use numerical integration to compute the stiffness matrix of this element. The resulting values are:\n",
    "\n",
    "$$\\mathbf{K}^e=\\dfrac{1}{364}\\begin{bmatrix}\n",
    " 180 &   65 & -110 &   -5 &  -90 &  -65 &   20 &    5 \\\\\n",
    "  65 &  180 &    5 &   20 &  -65 &  -90 &   -5 & -110 \\\\\n",
    "-110 &    5 &  180 &  -65 &   20 &   -5 &  -90 &   65 \\\\\n",
    "  -5 &   20 &  -65 &  180 &    5 & -110 &   65 &  -90 \\\\\n",
    " -90 &  -65 &   20 &    5 &  180 &   65 & -110 &   -5 \\\\\n",
    " -65 &  -90 &   -5 & -110 &   65 &  180 &    5 &   20 \\\\\n",
    "  20 &   -5 &  -90 &   65 & -110 &    5 &  180 &  -65 \\\\\n",
    "   5 & -110 &   65 &  -90 &   -5 &   20 &  -65 &  180 \n",
    "\\end{bmatrix}\n",
    "%, \\mathbf{a}^e = \\myMat{a_{1x}\\\\a_{1y}\\\\a_{2x}\\\\a_{2y}\\\\a_{3x}\\\\a_{3y}\\\\a_{4x}\\\\a_{4y}}\n",
    "$$\n",
    "\n",
    "which is in this single element model also the global stiffness matrix.\n",
    "\n",
    "Now recall we would like to use this matrix to solve for $\\mathbf{u}$:\n",
    "\n",
    "$$\\mathbf{u}=\\mathbf{K}^{-1}\\mathbf{f}$$\n",
    "\n",
    "which means $\\mathbf{K}$ should be invertible.\n",
    "\n",
    "In the block below, try to directly invert $\\mathbf{K}$ using `np.linalg.inv()`. You can also try to multiply $\\mathbf{K}^{-1}$ by a force vector, say one containing some small Gaussian noise:"
   ]
  },
  {
   "cell_type": "markdown",
   "id": "db467616-10bd-48bd-979b-947831352bdc",
   "metadata": {},
   "source": [
    "\n",
    "<div style=\"background-color:#AABAB2; color: black; vertical-align: middle; padding:15px; margin: 10px; border-radius: 10px\">\n",
    "<p>\n",
    "<b>Task 1: Invert the matrix</b>   \n",
    "\n",
    "- Complete the code block below to invert $\\mathbf{K}$ and solve $\\mathbf{Ku}=\\mathbf{f}$ with a random force vector with small numbers. \n",
    "- What do you observe for the values in $\\mathbf{K}^{-1}$ and $\\mathbf{u}$?\n",
    "</p>\n",
    "</div>\n"
   ]
  },
  {
   "cell_type": "code",
   "execution_count": 17,
   "id": "73cbd1a6-34f7-4649-bfa3-e2d102e4901d",
   "metadata": {},
   "outputs": [
    {
     "name": "stdout",
     "output_type": "stream",
     "text": [
      "u:\n",
      " [ 2.89366680e+15 -2.77720496e+14  2.89366680e+15  6.09945404e+14\n",
      "  2.00600090e+15  6.09945404e+14  2.00600090e+15 -2.77720496e+14]\n"
     ]
    }
   ],
   "source": [
    "from kmatrix import K\n",
    "\n",
    "# try to invert K here\n",
    "K_inv = np.linalg.inv(K)\n",
    "# print(\"Inverse of K:\\n\", K_inv)\n",
    "\n",
    "random_f = np.random.normal(scale=0.1,size=8)\n",
    "\n",
    "# try to solve for u here\n",
    "u = np.linalg.solve(K, random_f)\n",
    "print(\"u:\\n\", u)"
   ]
  },
  {
   "cell_type": "markdown",
   "id": "b4d1a41d-972a-4bc1-8320-92e9daa56199",
   "metadata": {},
   "source": [
    "## Introducing constraints\n",
    "\n",
    "There is clearly something missing in the model above. The huge matrix entries in $\\mathbf{K}^{-1}$ are a telltale sign of an (almost) singular matrix. This also makes physical sense: For now, this is a Q4 element floating in space. In order for a unique equilibrium to exist for any external force, we have to introduce supports.\n",
    "\n",
    "To demonstrate how Dirichlet boundary conditions are applied in pyJive, we copy here parts of the `Constrainer` class that can be found in `utils/constrainer.py`:"
   ]
  },
  {
   "cell_type": "code",
   "execution_count": 13,
   "id": "e243d84e-76a8-4ef7-82f0-132f62cd634c",
   "metadata": {},
   "outputs": [],
   "source": [
    "class Constrainer:\n",
    "    def __init__(self):\n",
    "        self._dofs = []\n",
    "        self._vals = []\n",
    "\n",
    "    def add_constraint(self, dof, val):\n",
    "        self._dofs.append(dof)\n",
    "        self._vals.append(val)\n",
    "\n",
    "    def constrain(self, k, f):\n",
    "        kc = np.copy(k)\n",
    "        fc = np.copy(f)\n",
    "\n",
    "        for dof, val in zip(self._dofs, self._vals):\n",
    "            for i in range(kc.shape[0]):\n",
    "                if i == dof:\n",
    "                    fc[i] = val\n",
    "                else:\n",
    "                    fc[i] -= kc[i, dof] * val\n",
    "\n",
    "            kc[:, dof] = kc[dof, :] = 0.0\n",
    "            kc[dof, dof] = 1.0\n",
    "\n",
    "        return kc, fc"
   ]
  },
  {
   "cell_type": "markdown",
   "id": "0e57cf76-509e-4bc7-b374-ac871095b46a",
   "metadata": {},
   "source": [
    "We now use the `Constrainer` to apply our BCs.\n",
    "\n",
    "For assembling the element stiffness matrix $\\mathbf{K}$, we implicitly assumed the following DOF order:\n",
    "\n",
    "$$\\mathbf{a}=\\begin{bmatrix}\n",
    "a_{1x}\\\\\n",
    "a_{1y}\\\\\n",
    "a_{2x}\\\\\n",
    "a_{2y}\\\\\n",
    "a_{3x}\\\\\n",
    "a_{3y}\\\\\n",
    "a_{4x}\\\\\n",
    "a_{4y}\\\\\n",
    "\\end{bmatrix}$$\n",
    "\n",
    "That means our constraints look like:\n",
    "\n",
    "| Node | Direction | DOF index | Value |\n",
    "|---|---|---|---|\n",
    "|1|$x$|0|0|\n",
    "|1|$y$|1|0|\n",
    "|2|$x$|2|1|\n",
    "|2|$y$|3|0|\n",
    "|3|$x$|4|1|\n",
    "|4|$x$|6|0|\n",
    "\n",
    "In the full code, we do not need to manually keep track of DOF indices. This bookkeeping is taken care of by the `DofSpace` class, and to retrieve a DOF index we only need to know the node index and the DOF direction.\n",
    "\n",
    "For simplicity, we do it manually here."
   ]
  },
  {
   "cell_type": "markdown",
   "id": "61a59f46-1607-4564-a10c-4980adf0bbd7",
   "metadata": {},
   "source": [
    "<div style=\"background-color:#AABAB2; color: black; vertical-align: middle; padding:15px; margin: 10px; border-radius: 10px\">\n",
    "<p>\n",
    "<b>Task 2: Constrain the problem </b>   \n",
    "\n",
    "- Use the code block below to tell the constrainer class what constraints are there for this problem \n",
    "- Run the following blocks to construct and inspect the constrained stiffness matrix and force vector\n",
    "    \n",
    "</p>\n",
    "</div>"
   ]
  },
  {
   "cell_type": "code",
   "execution_count": 26,
   "id": "c8ddc8ac-6214-4933-a219-18a1ac7ce63f",
   "metadata": {},
   "outputs": [],
   "source": [
    "con = Constrainer()\n",
    "\n",
    "con.add_constraint(0, 1)\n",
    "con.add_constraint(1, 1)\n",
    "con.add_constraint(2, 1)\n",
    "con.add_constraint(3, 1)\n",
    "# ...\n",
    "# con.add_constraint(???,???)\n",
    "# ..."
   ]
  },
  {
   "cell_type": "markdown",
   "id": "05acb7d4-5ba4-49a7-9df4-207478ad746a",
   "metadata": {},
   "source": [
    "The `constrainer` instance is now ready to give us the constrained matrix:"
   ]
  },
  {
   "cell_type": "code",
   "execution_count": 31,
   "id": "4da22b5a-c223-4dc7-bd87-a5cd2900b174",
   "metadata": {},
   "outputs": [],
   "source": [
    "f = np.zeros(8)\n",
    "Kc, fc = con.constrain(K, f)"
   ]
  },
  {
   "cell_type": "markdown",
   "id": "67fd8514-4c10-4a3d-9ed0-38203419377e",
   "metadata": {},
   "source": [
    "We can take a look inside:"
   ]
  },
  {
   "cell_type": "code",
   "execution_count": 32,
   "id": "75a0c5ee-5b75-4e81-80b6-0a70f6446e1e",
   "metadata": {},
   "outputs": [
    {
     "name": "stdout",
     "output_type": "stream",
     "text": [
      "Constrained matrix\n",
      " [[ 1.          0.          0.          0.          0.          0.\n",
      "   0.          0.        ]\n",
      " [ 0.          1.          0.          0.          0.          0.\n",
      "   0.          0.        ]\n",
      " [ 0.          0.          1.          0.          0.          0.\n",
      "   0.          0.        ]\n",
      " [ 0.          0.          0.          1.          0.          0.\n",
      "   0.          0.        ]\n",
      " [ 0.          0.          0.          0.          0.49450549  0.17857143\n",
      "  -0.3021978  -0.01373626]\n",
      " [ 0.          0.          0.          0.          0.17857143  0.49450549\n",
      "   0.01373626  0.05494505]\n",
      " [ 0.          0.          0.          0.         -0.3021978   0.01373626\n",
      "   0.49450549 -0.17857143]\n",
      " [ 0.          0.          0.          0.         -0.01373626  0.05494505\n",
      "  -0.17857143  0.49450549]]\n",
      "Constrained force\n",
      " [1.         1.         1.         1.         0.35714286 0.74175824\n",
      " 0.02747253 0.35714286]\n"
     ]
    }
   ],
   "source": [
    "print('Constrained matrix\\n',Kc)\n",
    "print('Constrained force\\n',fc)"
   ]
  },
  {
   "cell_type": "markdown",
   "id": "2a3dfe1b-f89a-49b7-8010-6565f2bd0595",
   "metadata": {},
   "source": [
    "Or have a qualitative look by plotting them:"
   ]
  },
  {
   "cell_type": "code",
   "execution_count": 33,
   "id": "b2e3478d-6aee-4167-8197-396319cbceaa",
   "metadata": {},
   "outputs": [
    {
     "data": {
      "text/plain": [
       "[<matplotlib.axis.XTick at 0x1fcb3e00050>,\n",
       " <matplotlib.axis.XTick at 0x1fcb3e35a90>,\n",
       " <matplotlib.axis.XTick at 0x1fcb3e36210>,\n",
       " <matplotlib.axis.XTick at 0x1fcb3e36990>,\n",
       " <matplotlib.axis.XTick at 0x1fcb3e37110>,\n",
       " <matplotlib.axis.XTick at 0x1fcb3e37890>,\n",
       " <matplotlib.axis.XTick at 0x1fcb3fc4050>,\n",
       " <matplotlib.axis.XTick at 0x1fcb3fc47d0>]"
      ]
     },
     "execution_count": 33,
     "metadata": {},
     "output_type": "execute_result"
    },
    {
     "data": {
      "image/png": "[encoded data removed]",
      "text/plain": [
       "<Figure size 640x480 with 2 Axes>"
      ]
     },
     "metadata": {},
     "output_type": "display_data"
    }
   ],
   "source": [
    "fig = plt.figure(constrained_layout=True)\n",
    "\n",
    "fig.suptitle('Stiffness matrix')\n",
    "axs = fig.subplots(1, 2, sharey=True)\n",
    "axs[0].imshow(K,vmin=-0.5,vmax=1)\n",
    "axs[0].set_title('Unconstrained')\n",
    "axs[0].set_xticks(range(0,8))\n",
    "axs[1].imshow(Kc,vmin=-0.5,vmax=1)\n",
    "axs[1].set_title('Constrained')\n",
    "axs[1].set_xticks(range(0,8))"
   ]
  },
  {
   "cell_type": "code",
   "execution_count": 30,
   "id": "af31c52e-cc36-4cb8-938c-833e636ab05a",
   "metadata": {},
   "outputs": [
    {
     "data": {
      "text/plain": [
       "[]"
      ]
     },
     "execution_count": 30,
     "metadata": {},
     "output_type": "execute_result"
    },
    {
     "data": {
      "image/png": "[encoded data removed]",
      "text/plain": [
       "<Figure size 640x480 with 2 Axes>"
      ]
     },
     "metadata": {},
     "output_type": "display_data"
    }
   ],
   "source": [
    "fig = plt.figure(constrained_layout=True)\n",
    "\n",
    "fig.suptitle('Force vector')\n",
    "axs = fig.subplots(1, 2, sharey=True)\n",
    "axs[0].imshow(f.reshape((8,1)),vmin=-0.5,vmax=1)\n",
    "axs[0].set_title('Unconstrained')\n",
    "axs[0].set_xticks([])\n",
    "axs[1].imshow(fc.reshape((8,1)),vmin=-0.5,vmax=1)\n",
    "axs[1].set_title('Constrained')\n",
    "axs[1].set_xticks([])"
   ]
  },
  {
   "cell_type": "markdown",
   "id": "5ade4272-5bb6-41d5-be13-b319cb2d5dc1",
   "metadata": {},
   "source": [
    "Note that here we use the size-preserving approach, with `1` entries on the diagonal of the constrained DOFs. We also keep the symmetry of $\\mathbf{K}$ by moving some terms to the right-hand side of the system."
   ]
  },
  {
   "cell_type": "markdown",
   "id": "54be0b02-29ee-417f-bec8-1130972f2dbd",
   "metadata": {},
   "source": [
    "## Solving the system\n",
    "\n",
    "<div style=\"background-color:#AABAB2; color: black; vertical-align: middle; padding:15px; margin: 10px; border-radius: 10px\">\n",
    "<p>\n",
    "<b>Task 3: Solve the constrained problem</b>   \n",
    "\n",
    "- Use the code block below to solve the constrained system of equations\n",
    "- Does the solution satisfy the constraints?\n",
    "- What are the values of the displacements that were unknown in this problem?\n",
    "- Are these displacement values in line with expectations? \n",
    "    \n",
    "</p>\n",
    "</div>\n",
    "\n",
    "Instead of storing it as a sparse matrix and solving the system (contrast it to how we do it in `SolverModule`), here we just invert it and multiply by $\\mathbf{f}$ for simplicity:"
   ]
  },
  {
   "cell_type": "code",
   "execution_count": 34,
   "id": "89c7c671-abc0-4a95-961b-41ff14e3c627",
   "metadata": {},
   "outputs": [
    {
     "name": "stdout",
     "output_type": "stream",
     "text": [
      "Nodal displacements: [1. 1. 1. 1. 1. 1. 1. 1.]\n"
     ]
    }
   ],
   "source": [
    "u = np.matmul(np.linalg.inv(Kc),fc)\n",
    "print('Nodal displacements:',u)"
   ]
  },
  {
   "cell_type": "markdown",
   "id": "b1a1fcfe-d213-46d1-bca0-51b6192effdd",
   "metadata": {},
   "source": [
    "\n",
    "<div style=\"background-color:#AABAB2; color: black; vertical-align: middle; padding:15px; margin: 10px; border-radius: 10px\">\n",
    "<p>\n",
    "<b>Task 4: Compute support reactions</b>   \n",
    "\n",
    "- Partition matrix and vector in free (`f`) and constrained (`c`) parts, using information from the `Constrainer` on which DOFs are constrained. \n",
    "    \n",
    "- Code an expression that gives the reaction forces on constrained DOFs.\n",
    "    \n",
    "- Do the results make sense for the given problem? \n",
    "\n",
    "</p>\n",
    "</div>\n"
   ]
  },
  {
   "cell_type": "code",
   "execution_count": 35,
   "id": "191e675c-31ed-4fe9-9e6d-b6c3d0d13171",
   "metadata": {},
   "outputs": [
    {
     "ename": "NameError",
     "evalue": "name 'reactions' is not defined",
     "output_type": "error",
     "traceback": [
      "\u001b[31m---------------------------------------------------------------------------\u001b[39m",
      "\u001b[31mNameError\u001b[39m                                 Traceback (most recent call last)",
      "\u001b[36mCell\u001b[39m\u001b[36m \u001b[39m\u001b[32mIn[35]\u001b[39m\u001b[32m, line 11\u001b[39m\n\u001b[32m      2\u001b[39m fdofs = [i \u001b[38;5;28;01mfor\u001b[39;00m i \u001b[38;5;129;01min\u001b[39;00m \u001b[38;5;28mrange\u001b[39m(\u001b[38;5;28mlen\u001b[39m(K)) \u001b[38;5;28;01mif\u001b[39;00m i \u001b[38;5;129;01mnot\u001b[39;00m \u001b[38;5;129;01min\u001b[39;00m cdofs]\n\u001b[32m      4\u001b[39m \u001b[38;5;66;03m# kcf = K[np.ix_(???,???)]\u001b[39;00m\n\u001b[32m      5\u001b[39m \u001b[38;5;66;03m# kcc = K[np.ix_(???,???)]\u001b[39;00m\n\u001b[32m      6\u001b[39m \n\u001b[32m   (...)\u001b[39m\u001b[32m      9\u001b[39m \n\u001b[32m     10\u001b[39m \u001b[38;5;66;03m# reactions = ???\u001b[39;00m\n\u001b[32m---> \u001b[39m\u001b[32m11\u001b[39m \u001b[38;5;28mprint\u001b[39m(\u001b[33m'\u001b[39m\u001b[33mSupport reactions:\u001b[39m\u001b[33m'\u001b[39m,reactions)\n",
      "\u001b[31mNameError\u001b[39m: name 'reactions' is not defined"
     ]
    }
   ],
   "source": [
    "cdofs = con._dofs\n",
    "fdofs = [i for i in range(len(K)) if i not in cdofs]\n",
    "\n",
    "# kcf = K[np.ix_(???,???)]\n",
    "# kcc = K[np.ix_(???,???)]\n",
    "\n",
    "# uc  = u[???]\n",
    "# uf  = u[???]\n",
    "\n",
    "# reactions = ???\n",
    "print('Support reactions:',reactions)"
   ]
  },
  {
   "cell_type": "markdown",
   "id": "4fb246a2-2019-48bb-80e7-b85ed933b805",
   "metadata": {},
   "source": [
    "\n",
    "<div style=\"background-color:#AABAB2; color: black; vertical-align: middle; padding:15px; margin: 10px; border-radius: 10px\">\n",
    "<p>\n",
    "<b>Task 5: Explore the `pyjive` source code</b>   \n",
    "\n",
    "- Check whether the functions in the `Constrainer` are indeed the same as given below (see `utils/constrainer.py`)\n",
    "- From which place in the code is the `add_constraint` function called?\n",
    "- From which place in the code is the `constrain` function called?\n",
    "\n",
    "</p>\n",
    "</div>\n"
   ]
  },
  {
   "cell_type": "code",
   "execution_count": null,
   "id": "82b25652-1d0e-4eb6-8839-3bf556cd804b",
   "metadata": {},
   "outputs": [],
   "source": []
  }
 ],
 "metadata": {
  "kernelspec": {
   "display_name": "CIEM4220_CM",
   "language": "python",
   "name": "python3"
  },
  "language_info": {
   "codemirror_mode": {
    "name": "ipython",
    "version": 3
   },
   "file_extension": ".py",
   "mimetype": "text/x-python",
   "name": "python",
   "nbconvert_exporter": "python",
   "pygments_lexer": "ipython3",
   "version": "3.13.2"
  }
 },
 "nbformat": 4,
 "nbformat_minor": 5
}
